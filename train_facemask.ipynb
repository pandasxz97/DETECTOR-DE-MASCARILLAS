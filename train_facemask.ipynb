{
 "cells": [
  {
   "cell_type": "code",
   "execution_count": 1,
   "metadata": {},
   "outputs": [],
   "source": [
    "# importar los paquetes necesarios\n",
    "from tensorflow.keras.preprocessing.image import ImageDataGenerator\n",
    "from tensorflow.keras.applications import MobileNetV2\n",
    "from tensorflow.keras.layers import AveragePooling2D\n",
    "from tensorflow.keras.layers import Dropout\n",
    "from tensorflow.keras.layers import Flatten\n",
    "from tensorflow.keras.layers import Dense\n",
    "from tensorflow.keras.layers import Input\n",
    "from tensorflow.keras.models import Model\n",
    "from tensorflow.keras.optimizers import Adam\n",
    "from tensorflow.keras.applications.mobilenet_v2 import preprocess_input\n",
    "from tensorflow.keras.preprocessing.image import img_to_array\n",
    "from tensorflow.keras.preprocessing.image import load_img\n",
    "from tensorflow.keras.utils import to_categorical\n",
    "from sklearn.preprocessing import LabelBinarizer\n",
    "from sklearn.model_selection import train_test_split\n",
    "from sklearn.metrics import classification_report\n",
    "from imutils import paths\n",
    "import matplotlib.pyplot as plt\n",
    "import numpy as np\n",
    "import argparse\n",
    "import os"
   ]
  },
  {
   "cell_type": "code",
   "execution_count": 4,
   "metadata": {},
   "outputs": [],
   "source": [
    "# inicializar la tasa de aprendizaje inicial, el número de épocas para entrenar,\n",
    "# y tamaño de lote\n",
    "INIT_LR = 1e-4\n",
    "EPOCHS = 20\n",
    "BS = 32"
   ]
  },
  {
   "cell_type": "code",
   "execution_count": 5,
   "metadata": {},
   "outputs": [
    {
     "name": "stdout",
     "output_type": "stream",
     "text": [
      "Cargando imágenes ...\n"
     ]
    }
   ],
   "source": [
    "# toma la lista de imágenes en nuestro directorio de conjuntos de datos, luego inicializa\n",
    "# la lista de datos (es decir, imágenes) e imágenes de clase\n",
    "print(\"Cargando imágenes ...\")\n",
    "imagePaths = list(paths.list_images('dataset'))\n",
    "data = []\n",
    "labels = []"
   ]
  },
  {
   "cell_type": "code",
   "execution_count": 6,
   "metadata": {},
   "outputs": [],
   "source": [
    "# recorrer las rutas de la imagen\n",
    "for imagePath in imagePaths:\n",
    "    # extrae la etiqueta de clase del nombre del archivo\n",
    "    label = imagePath.split(os.path.sep)[-2]\n",
    "    \n",
    "    # cargar la imagen de entrada (224x224) y preprocesarla\n",
    "    image = load_img(imagePath, target_size=(224, 224))\n",
    "    image = img_to_array(image)\n",
    "    image = preprocess_input(image)\n",
    "\n",
    "   # actualizar las listas de datos y etiquetas, respectivamente\n",
    "    data.append(image)\n",
    "    labels.append(label)"
   ]
  },
  {
   "cell_type": "code",
   "execution_count": 7,
   "metadata": {},
   "outputs": [],
   "source": [
    "# convierte los datos y las etiquetas en matrices NumPy\n",
    "data = np.array(data, dtype=\"float32\")\n",
    "labels = np.array(labels)"
   ]
  },
  {
   "cell_type": "code",
   "execution_count": 8,
   "metadata": {},
   "outputs": [],
   "source": [
    "# realizar codificación one-hot en las etiquetas\n",
    "lb = LabelBinarizer()\n",
    "labels = lb.fit_transform(labels)\n",
    "labels = to_categorical(labels)"
   ]
  },
  {
   "cell_type": "code",
   "execution_count": 9,
   "metadata": {},
   "outputs": [],
   "source": [
    "# particione los datos en divisiones de entrenamiento y prueba usando el 75% de\n",
    "# los datos para entrenamiento y el 25% restante para pruebas\n",
    "(trainX, testX, trainY, testY) = train_test_split(data, labels,\n",
    "\ttest_size=0.20, stratify=labels, random_state=42)"
   ]
  },
  {
   "cell_type": "code",
   "execution_count": 10,
   "metadata": {},
   "outputs": [],
   "source": [
    "# construir el generador de imágenes de entrenamiento para el aumento de datos\n",
    "aug = ImageDataGenerator(\n",
    "\trotation_range=20,\n",
    "\tzoom_range=0.15,\n",
    "\twidth_shift_range=0.2,\n",
    "\theight_shift_range=0.2,\n",
    "\tshear_range=0.15,\n",
    "\thorizontal_flip=True,\n",
    "\tfill_mode=\"nearest\")"
   ]
  },
  {
   "cell_type": "code",
   "execution_count": 11,
   "metadata": {},
   "outputs": [
    {
     "name": "stdout",
     "output_type": "stream",
     "text": [
      "WARNING:tensorflow:`input_shape` is undefined or non-square, or `rows` is not in [96, 128, 160, 192, 224]. Weights for input shape (224, 224) will be loaded as the default.\n"
     ]
    }
   ],
   "source": [
    "# cargue la red MobileNetV2, asegurándose de que los conjuntos de capas FC principales estén\n",
    "# Parado\n",
    "baseModel = MobileNetV2(weights=\"imagenet\", include_top=False,\n",
    "\tinput_tensor=Input(shape=(224, 224, 3)))"
   ]
  },
  {
   "cell_type": "code",
   "execution_count": 12,
   "metadata": {},
   "outputs": [],
   "source": [
    "# construya la cabeza del modelo que se colocará encima de la\n",
    "# el modelo base\n",
    "headModel = baseModel.output\n",
    "headModel = AveragePooling2D(pool_size=(7, 7))(headModel)\n",
    "headModel = Flatten(name=\"flatten\")(headModel)\n",
    "headModel = Dense(128, activation=\"relu\")(headModel)\n",
    "headModel = Dropout(0.5)(headModel)\n",
    "headModel = Dense(2, activation=\"softmax\")(headModel)"
   ]
  },
  {
   "cell_type": "code",
   "execution_count": 13,
   "metadata": {},
   "outputs": [],
   "source": [
    "# coloque el modelo FC de la cabeza encima del modelo base (esto se convertirá\n",
    "# el modelo real que entrenaremos)\n",
    "model = Model(inputs=baseModel.input, outputs=headModel)"
   ]
  },
  {
   "cell_type": "code",
   "execution_count": 14,
   "metadata": {},
   "outputs": [],
   "source": [
    "# recorrer todas las capas del modelo base y congelarlas para que\n",
    "# * no * actualizarse durante el primer proceso de formación\n",
    "for layer in baseModel.layers:\n",
    "\tlayer.trainable = False"
   ]
  },
  {
   "cell_type": "code",
   "execution_count": 15,
   "metadata": {},
   "outputs": [
    {
     "name": "stdout",
     "output_type": "stream",
     "text": [
      "Compilando el modelo...\n"
     ]
    }
   ],
   "source": [
    "# compila nuestro modelo\n",
    "print(\"Compilando el modelo...\")\n",
    "opt = Adam(lr=INIT_LR, decay=INIT_LR / EPOCHS)\n",
    "model.compile(loss=\"binary_crossentropy\", optimizer=opt,\n",
    "\tmetrics=[\"accuracy\"])"
   ]
  },
  {
   "cell_type": "code",
   "execution_count": 16,
   "metadata": {},
   "outputs": [
    {
     "name": "stdout",
     "output_type": "stream",
     "text": [
      "jefe de entrenamiento ...\n",
      "Epoch 1/20\n",
      "34/34 [==============================] - 287s 8s/step - loss: 0.4758 - accuracy: 0.7734 - val_loss: 0.1892 - val_accuracy: 0.9457\n",
      "Epoch 2/20\n",
      "34/34 [==============================] - 198s 6s/step - loss: 0.1378 - accuracy: 0.9691 - val_loss: 0.0839 - val_accuracy: 0.9783\n",
      "Epoch 3/20\n",
      "34/34 [==============================] - 119s 3s/step - loss: 0.0759 - accuracy: 0.9822 - val_loss: 0.0571 - val_accuracy: 0.9819\n",
      "Epoch 4/20\n",
      "34/34 [==============================] - 117s 3s/step - loss: 0.0543 - accuracy: 0.9897 - val_loss: 0.0396 - val_accuracy: 0.9855\n",
      "Epoch 5/20\n",
      "34/34 [==============================] - 105s 3s/step - loss: 0.0386 - accuracy: 0.9945 - val_loss: 0.0319 - val_accuracy: 0.9891\n",
      "Epoch 6/20\n",
      "34/34 [==============================] - 79s 2s/step - loss: 0.0347 - accuracy: 0.9888 - val_loss: 0.0310 - val_accuracy: 0.9928\n",
      "Epoch 7/20\n",
      "34/34 [==============================] - 78s 2s/step - loss: 0.0334 - accuracy: 0.9906 - val_loss: 0.0260 - val_accuracy: 0.9928\n",
      "Epoch 8/20\n",
      "34/34 [==============================] - 83s 2s/step - loss: 0.0192 - accuracy: 0.9963 - val_loss: 0.0243 - val_accuracy: 0.9964\n",
      "Epoch 9/20\n",
      "34/34 [==============================] - 86s 3s/step - loss: 0.0230 - accuracy: 0.9925 - val_loss: 0.0214 - val_accuracy: 0.9891\n",
      "Epoch 10/20\n",
      "34/34 [==============================] - 82s 2s/step - loss: 0.0181 - accuracy: 0.9963 - val_loss: 0.0210 - val_accuracy: 0.9928\n",
      "Epoch 11/20\n",
      "34/34 [==============================] - 86s 3s/step - loss: 0.0126 - accuracy: 0.9972 - val_loss: 0.0188 - val_accuracy: 0.9891\n",
      "Epoch 12/20\n",
      "34/34 [==============================] - 87s 3s/step - loss: 0.0163 - accuracy: 0.9963 - val_loss: 0.0198 - val_accuracy: 0.9891\n",
      "Epoch 13/20\n",
      "34/34 [==============================] - 81s 2s/step - loss: 0.0202 - accuracy: 0.9934 - val_loss: 0.0170 - val_accuracy: 0.9891\n",
      "Epoch 14/20\n",
      "34/34 [==============================] - 86s 3s/step - loss: 0.0221 - accuracy: 0.9906 - val_loss: 0.0178 - val_accuracy: 0.9855\n",
      "Epoch 15/20\n",
      "34/34 [==============================] - 88s 3s/step - loss: 0.0105 - accuracy: 0.9972 - val_loss: 0.0189 - val_accuracy: 0.9855\n",
      "Epoch 16/20\n",
      "34/34 [==============================] - 69s 2s/step - loss: 0.0111 - accuracy: 0.9972 - val_loss: 0.0170 - val_accuracy: 0.9891\n",
      "Epoch 17/20\n",
      "34/34 [==============================] - 69s 2s/step - loss: 0.0108 - accuracy: 0.9972 - val_loss: 0.0177 - val_accuracy: 0.9855\n",
      "Epoch 18/20\n",
      "34/34 [==============================] - 77s 2s/step - loss: 0.0101 - accuracy: 0.9972 - val_loss: 0.0189 - val_accuracy: 0.9855\n",
      "Epoch 19/20\n",
      "34/34 [==============================] - 74s 2s/step - loss: 0.0156 - accuracy: 0.9934 - val_loss: 0.0200 - val_accuracy: 0.9855\n",
      "Epoch 20/20\n",
      "34/34 [==============================] - 69s 2s/step - loss: 0.0093 - accuracy: 0.9972 - val_loss: 0.0198 - val_accuracy: 0.9855\n"
     ]
    }
   ],
   "source": [
    "# capacitar al responsable de la red\n",
    "print(\"jefe de entrenamiento ...\")\n",
    "H = model.fit(\n",
    "\taug.flow(trainX, trainY, batch_size=BS),\n",
    "\tsteps_per_epoch=len(trainX) // BS,\n",
    "\tvalidation_data=(testX, testY),\n",
    "\tvalidation_steps=len(testX) // BS,\n",
    "\tepochs=EPOCHS)"
   ]
  },
  {
   "cell_type": "code",
   "execution_count": 17,
   "metadata": {},
   "outputs": [
    {
     "name": "stdout",
     "output_type": "stream",
     "text": [
      "evaluando la red .....\n"
     ]
    }
   ],
   "source": [
    "# hacer predicciones sobre el conjunto de pruebas\n",
    "print(\"evaluando la red .....\")\n",
    "predIdxs = model.predict(testX, batch_size=BS)"
   ]
  },
  {
   "cell_type": "code",
   "execution_count": 18,
   "metadata": {},
   "outputs": [],
   "source": [
    "# para cada imagen en el conjunto de prueba, necesitamos encontrar el índice del\n",
    "# etiqueta con la probabilidad predicha más grande correspondiente\n",
    "predIdxs = np.argmax(predIdxs, axis=1)"
   ]
  },
  {
   "cell_type": "code",
   "execution_count": 19,
   "metadata": {},
   "outputs": [
    {
     "name": "stdout",
     "output_type": "stream",
     "text": [
      "              precision    recall  f1-score   support\n",
      "\n",
      "   with_mask       0.98      0.99      0.99       138\n",
      "without_mask       0.99      0.98      0.99       138\n",
      "\n",
      "    accuracy                           0.99       276\n",
      "   macro avg       0.99      0.99      0.99       276\n",
      "weighted avg       0.99      0.99      0.99       276\n",
      "\n"
     ]
    }
   ],
   "source": [
    "# mostrar un informe de clasificación con un formato agradable\n",
    "print(classification_report(testY.argmax(axis=1), predIdxs,\n",
    "\ttarget_names=lb.classes_))"
   ]
  },
  {
   "cell_type": "code",
   "execution_count": 20,
   "metadata": {},
   "outputs": [
    {
     "name": "stdout",
     "output_type": "stream",
     "text": [
      "guardando el modelo...\n"
     ]
    }
   ],
   "source": [
    "# guardar el modelo en disco\n",
    "print(\"guardando el modelo...\")\n",
    "model.save('mimodelo.model', save_format=\"h5\")"
   ]
  },
  {
   "cell_type": "code",
   "execution_count": 26,
   "metadata": {},
   "outputs": [
    {
     "data": {
      "image/png": "[encoded data removed]",
      "text/plain": [
       "<Figure size 432x288 with 1 Axes>"
      ]
     },
     "metadata": {},
     "output_type": "display_data"
    }
   ],
   "source": [
    "# trazar la pérdida y la precisión del entrenamiento\n",
    "N = EPOCHS\n",
    "plt.style.use(\"ggplot\")\n",
    "plt.figure()\n",
    "plt.plot(np.arange(0, N), H.history[\"loss\"], label=\"train_loss\")\n",
    "plt.plot(np.arange(0, N), H.history[\"val_loss\"], label=\"val_loss\")\n",
    "plt.plot(np.arange(0, N), H.history[\"accuracy\"], label=\"train_acc\")\n",
    "plt.plot(np.arange(0, N), H.history[\"val_accuracy\"], label=\"val_acc\")\n",
    "plt.title(\"Pérdida y precisión del entrenamiento\")\n",
    "plt.xlabel(\"Época #\")\n",
    "plt.ylabel(\"Pérdida / Precisión\")\n",
    "plt.legend(loc=\"lower right\")\n",
    "plt.savefig('plot.png')"
   ]
  },
  {
   "cell_type": "code",
   "execution_count": 29,
   "metadata": {},
   "outputs": [
    {
     "name": "stderr",
     "output_type": "stream",
     "text": [
      "2021-08-27 05:30:27.450785: W tensorflow/stream_executor/platform/default/dso_loader.cc:55] Could not load dynamic library 'cudart64_101.dll'; dlerror: cudart64_101.dll not found\n",
      "2021-08-27 05:30:27.612317: I tensorflow/stream_executor/cuda/cudart_stub.cc:29] Ignore above cudart dlerror if you do not have a GPU set up on your machine.\n"
     ]
    }
   ],
   "source": [
    "model.save('mimodelo.h5')\n",
    "!tensorflowjs_converter --input_format keras mimodelo.h5 examples"
   ]
  },
  {
   "cell_type": "code",
   "execution_count": null,
   "metadata": {},
   "outputs": [],
   "source": []
  },
  {
   "cell_type": "code",
   "execution_count": 27,
   "metadata": {},
   "outputs": [],
   "source": []
  },
  {
   "cell_type": "code",
   "execution_count": null,
   "metadata": {},
   "outputs": [],
   "source": []
  },
  {
   "cell_type": "code",
   "execution_count": 29,
   "metadata": {},
   "outputs": [],
   "source": []
  },
  {
   "cell_type": "code",
   "execution_count": 30,
   "metadata": {},
   "outputs": [],
   "source": []
  },
  {
   "cell_type": "code",
   "execution_count": null,
   "metadata": {},
   "outputs": [],
   "source": []
  }
 ],
 "metadata": {
  "kernelspec": {
   "display_name": "Python 3",
   "language": "python",
   "name": "python3"
  },
  "language_info": {
   "codemirror_mode": {
    "name": "ipython",
    "version": 3
   },
   "file_extension": ".py",
   "mimetype": "text/x-python",
   "name": "python",
   "nbconvert_exporter": "python",
   "pygments_lexer": "ipython3",
   "version": "3.7.6"
  }
 },
 "nbformat": 4,
 "nbformat_minor": 4
}
